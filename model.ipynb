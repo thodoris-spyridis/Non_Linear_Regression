{
 "cells": [
  {
   "cell_type": "code",
   "execution_count": null,
   "metadata": {},
   "outputs": [],
   "source": [
    "import pandas as pd\n",
    "import numpy as np\n",
    "import matplotlib.pyplot as plt\n",
    "from data_cleaning import x_train, y_train\n",
    "import math\n",
    "from copy import deepcopy\n"
   ]
  },
  {
   "cell_type": "markdown",
   "metadata": {},
   "source": [
    "- Define the cost function"
   ]
  },
  {
   "cell_type": "code",
   "execution_count": null,
   "metadata": {},
   "outputs": [],
   "source": [
    "def cost_function(x, y, w, b):\n",
    "    '''\n",
    "    x: (m,n) array, m example with n features\n",
    "    y: (m,) array, target values\n",
    "    w: (n,) array, parameter\n",
    "    b: scalar, parameter (bias)\n",
    "    '''\n",
    "    m = x.shape[0]\n",
    "    cost = 0.0\n",
    "    for i in range(m):\n",
    "        dot_prod = np.dot(x[i], w)\n",
    "        fwb_i = float(dot_prod) + b\n",
    "        cost = cost + (fwb_i - y[i]) ** 2\n",
    "    cost = cost / (2 * m)\n",
    "    final_cost = cost[0]\n",
    "    return final_cost"
   ]
  },
  {
   "cell_type": "markdown",
   "metadata": {},
   "source": [
    "- Define the function that calculates the partial derivatives for w and b"
   ]
  },
  {
   "cell_type": "code",
   "execution_count": null,
   "metadata": {},
   "outputs": [],
   "source": [
    "def part_derivatives(x, y, w, b):\n",
    "    '''\n",
    "    x: (m,n) array, m example with n features\n",
    "    y: (m,) array, target values\n",
    "    w: (n,) array, parameter\n",
    "    b: scalar, parameter (bias)\n",
    "\n",
    "    Return values:\n",
    "    dj_dw: (n,) array partial derivative of cost jwb for w\n",
    "    dj_db: scalar partial derivative of cost jwb for b\n",
    "    '''\n",
    "\n",
    "    m,n = x.shape\n",
    "    dj_dw = np.zeros((n,))\n",
    "    dj_db = 0\n",
    "\n",
    "    for i in range(m):\n",
    "        err = (np.dot(x[i], w) + b) - y[i] \n",
    "        for j in range(n):\n",
    "            dj_dw[j] = dj_dw[j] + err[0] * x[i, j]\n",
    "        dj_db = dj_db + err[0]\n",
    "    dj_dw = dj_dw / m\n",
    "    dj_db = dj_db / m\n",
    "\n",
    "    return dj_db, dj_dw"
   ]
  },
  {
   "cell_type": "markdown",
   "metadata": {},
   "source": [
    "- Def gradient descent function"
   ]
  },
  {
   "cell_type": "code",
   "execution_count": null,
   "metadata": {},
   "outputs": [],
   "source": [
    "def gradient_descent(x, y, w_in, b_in, cost_function, partial_derivatives, alpha, iterations):\n",
    "    '''\n",
    "    x: (m,n) array, m example with n features\n",
    "    y: (m,) array, target values\n",
    "    w_in: (n,) array, initial parameter\n",
    "    b_in: scalar, initial parameter (bias)\n",
    "    cost_function: function to calculate cost\n",
    "    partial_derivatives: funtion to calculate dj_dw and dj_db\n",
    "    alpha: float, learning rate\n",
    "    iterations: intiger, number of iterations to run gradient descent\n",
    "    '''\n",
    "\n",
    "    j_values = []\n",
    "    w = deepcopy(w_in)\n",
    "    b = b_in\n",
    "\n",
    "    for i in range(iterations):\n",
    "        dj_db, dj_dw = part_derivatives(x, y, w, b)\n",
    "        w = w - (alpha * dj_dw)\n",
    "        b = b - (alpha * dj_db)\n",
    "\n",
    "        if i < 100000:  \n",
    "            j_values.append(cost_function(x, y, w, b))\n",
    "\n",
    "        if i % 100 == 0:\n",
    "            print(f\"Iteration: {i}, Cost: {j_values[-1]}\")\n",
    "\n",
    "    return w, b, j_values\n",
    "        \n",
    "    \n"
   ]
  },
  {
   "cell_type": "code",
   "execution_count": null,
   "metadata": {},
   "outputs": [],
   "source": [
    "def model_predict(x, w, b):\n",
    "    '''\n",
    "    x: (n,) array, n features\n",
    "    w: (n,) array, n parameters\n",
    "    b: scalar, parameter (bias)\n",
    "    '''\n",
    "\n",
    "\n",
    "    dot_prod = np.dot(x, w)\n",
    "    pred = float(dot_prod) + b\n",
    "    return pred"
   ]
  },
  {
   "cell_type": "code",
   "execution_count": null,
   "metadata": {},
   "outputs": [],
   "source": [
    "w_init = np.array([-1.0, -0.3])\n",
    "b_init = -3.0\n",
    "alpha = 1e-7\n",
    "gradient_descent(x_train, y_train, w_init, b_init, cost_function, part_derivatives, alpha, iterations=100)\n",
    "\n",
    "\n"
   ]
  },
  {
   "cell_type": "code",
   "execution_count": null,
   "metadata": {},
   "outputs": [],
   "source": []
  }
 ],
 "metadata": {
  "kernelspec": {
   "display_name": "Polynomial-Regression",
   "language": "python",
   "name": "python3"
  },
  "language_info": {
   "codemirror_mode": {
    "name": "ipython",
    "version": 3
   },
   "file_extension": ".py",
   "mimetype": "text/x-python",
   "name": "python",
   "nbconvert_exporter": "python",
   "pygments_lexer": "ipython3",
   "version": "3.12.0"
  }
 },
 "nbformat": 4,
 "nbformat_minor": 2
}
