{
 "cells": [
  {
   "cell_type": "code",
   "execution_count": 7,
   "metadata": {},
   "outputs": [],
   "source": [
    "import pandas as pd\n",
    "import numpy as np\n",
    "import matplotlib.pyplot as plt\n",
    "from data_cleaning import x_train, y_train\n",
    "from math import ceil\n",
    "from copy import deepcopy"
   ]
  },
  {
   "cell_type": "markdown",
   "metadata": {},
   "source": [
    "- Define the cost function"
   ]
  },
  {
   "cell_type": "code",
   "execution_count": 8,
   "metadata": {},
   "outputs": [],
   "source": [
    "def cost_function(x, y, w, b):\n",
    "    '''\n",
    "    x: (m,n) array, m example with n features\n",
    "    y: (m,) array, target values\n",
    "    w: (m,) array, parameter\n",
    "    b: scalar, parameter (bias)\n",
    "    '''\n",
    "    m = x.shape[0]\n",
    "    cost = 0.0\n",
    "    for i in range(m):\n",
    "        fwb_i = np.dot(x[i], w) + b\n",
    "        cost = cost + (fwb_i - y[i]) ** 2\n",
    "    cost = cost / (2 * m) \n",
    "    \n",
    "    return cost"
   ]
  },
  {
   "cell_type": "markdown",
   "metadata": {},
   "source": [
    "- Define the function that calculates the partial derivatives for w and b"
   ]
  },
  {
   "cell_type": "code",
   "execution_count": 9,
   "metadata": {},
   "outputs": [],
   "source": [
    "def part_derivatives(x, y, w, b):\n",
    "    '''\n",
    "    x: (m,n) array, m example with n features\n",
    "    y: (m,) array, target values\n",
    "    w: (m,) array, parameter\n",
    "    b: scalar, parameter (bias)\n",
    "\n",
    "    Return values:\n",
    "    dj_dw: (n,) array partial derivative of cost jwb for w\n",
    "    dj_db: scalar partial derivative of cost jwb for b\n",
    "    '''\n",
    "\n",
    "    m,n = x.shape\n",
    "    dj_dw = np.zeros((n,))\n",
    "    dj_db = 0\n",
    "\n",
    "    for i in range(m):\n",
    "        err = (np.dot(x[i], w) + b) - y[i]\n",
    "        dj_db = dj_db + err \n",
    "        for j in range(n):\n",
    "            dj_dw[j] = dj_dw[j] + err * x[i, j]\n",
    "    dj_dw = dj_dw / m\n",
    "    dj_db = dj_db / m\n",
    "\n",
    "    return dj_db, dj_dw"
   ]
  },
  {
   "cell_type": "markdown",
   "metadata": {},
   "source": [
    "- Def gradient descent function"
   ]
  },
  {
   "cell_type": "code",
   "execution_count": null,
   "metadata": {},
   "outputs": [],
   "source": [
    "def gradient_descent(x, y, w_in, b_in, cost_function, partial_derivatives, alpha, iterations):\n",
    "    '''\n",
    "    x: (m,n) array, m example with n features\n",
    "    y: (m,) array, target values\n",
    "    w_in: (m,) array, initial parameter\n",
    "    b_in: scalar, initial parameter (bias)\n",
    "    cost_function: function to calculate cost\n",
    "    partial_derivatives: funtion to calculate dj_dw and dj_db\n",
    "    alpha: float, learning rate\n",
    "    iterations: intiger, number of iterations to run gradient descent\n",
    "    '''\n",
    "\n",
    "    j_values = []\n",
    "    w = deepcopy(w_in)\n",
    "    b = b_in\n",
    "\n",
    "    for i in range(iterations):\n",
    "        dj_db, dj_dw = part_derivatives(x, y, w, b)\n",
    "        w = w - (alpha * dj_dw)\n",
    "        b = b - (alpha * dj_db)\n",
    "\n",
    "        if i < 100000:  \n",
    "            j_values.append(cost_function(x, y, w, b))\n",
    "\n",
    "        if i % ceil(iterations) == 10:\n",
    "            print(f\"Iteration: {i}, Cost: {j_values[-1]}\")\n",
    "\n",
    "    return w, b, j_values\n",
    "        \n",
    "    \n"
   ]
  }
 ],
 "metadata": {
  "kernelspec": {
   "display_name": "Polynomial-Regression",
   "language": "python",
   "name": "python3"
  },
  "language_info": {
   "codemirror_mode": {
    "name": "ipython",
    "version": 3
   },
   "file_extension": ".py",
   "mimetype": "text/x-python",
   "name": "python",
   "nbconvert_exporter": "python",
   "pygments_lexer": "ipython3",
   "version": "3.12.0"
  }
 },
 "nbformat": 4,
 "nbformat_minor": 2
}
