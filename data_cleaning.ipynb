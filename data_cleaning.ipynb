{
 "cells": [
  {
   "cell_type": "code",
   "execution_count": 84,
   "metadata": {},
   "outputs": [],
   "source": [
    "import pandas as pd\n",
    "import numpy as np\n",
    "import matplotlib.pyplot as plt\n",
    "from sklearn.impute import SimpleImputer\n",
    "from sklearn.model_selection import train_test_split"
   ]
  },
  {
   "cell_type": "code",
   "execution_count": 85,
   "metadata": {},
   "outputs": [
    {
     "data": {
      "text/html": [
       "<div>\n",
       "<style scoped>\n",
       "    .dataframe tbody tr th:only-of-type {\n",
       "        vertical-align: middle;\n",
       "    }\n",
       "\n",
       "    .dataframe tbody tr th {\n",
       "        vertical-align: top;\n",
       "    }\n",
       "\n",
       "    .dataframe thead th {\n",
       "        text-align: right;\n",
       "    }\n",
       "</style>\n",
       "<table border=\"1\" class=\"dataframe\">\n",
       "  <thead>\n",
       "    <tr style=\"text-align: right;\">\n",
       "      <th></th>\n",
       "      <th>location_name</th>\n",
       "      <th>res_sqr</th>\n",
       "      <th>construction_year</th>\n",
       "      <th>bedrooms</th>\n",
       "      <th>res_price</th>\n",
       "    </tr>\n",
       "  </thead>\n",
       "  <tbody>\n",
       "    <tr>\n",
       "      <th>0</th>\n",
       "      <td>Παλαιό Φάληρο-Αττική</td>\n",
       "      <td>55.0</td>\n",
       "      <td>1973.0</td>\n",
       "      <td>1</td>\n",
       "      <td>89000.0</td>\n",
       "    </tr>\n",
       "    <tr>\n",
       "      <th>1</th>\n",
       "      <td>Αχαρνές-Αττική</td>\n",
       "      <td>98.0</td>\n",
       "      <td>2010.0</td>\n",
       "      <td>2</td>\n",
       "      <td>150000.0</td>\n",
       "    </tr>\n",
       "    <tr>\n",
       "      <th>2</th>\n",
       "      <td>Παγκράτι-Αττική</td>\n",
       "      <td>126.0</td>\n",
       "      <td>1990.0</td>\n",
       "      <td>3</td>\n",
       "      <td>400000.0</td>\n",
       "    </tr>\n",
       "    <tr>\n",
       "      <th>3</th>\n",
       "      <td>Αθήνα-Αττική</td>\n",
       "      <td>85.0</td>\n",
       "      <td>1957.0</td>\n",
       "      <td>2</td>\n",
       "      <td>80000.0</td>\n",
       "    </tr>\n",
       "    <tr>\n",
       "      <th>4</th>\n",
       "      <td>Ίλιον-Αττική</td>\n",
       "      <td>48.0</td>\n",
       "      <td>1996.0</td>\n",
       "      <td>1</td>\n",
       "      <td>100000.0</td>\n",
       "    </tr>\n",
       "    <tr>\n",
       "      <th>5</th>\n",
       "      <td>Αθήνα-Αττική</td>\n",
       "      <td>96.0</td>\n",
       "      <td>1964.0</td>\n",
       "      <td>2</td>\n",
       "      <td>133000.0</td>\n",
       "    </tr>\n",
       "    <tr>\n",
       "      <th>6</th>\n",
       "      <td>Γαλάτσι-Αττική</td>\n",
       "      <td>67.0</td>\n",
       "      <td>1970.0</td>\n",
       "      <td>2</td>\n",
       "      <td>35000.0</td>\n",
       "    </tr>\n",
       "    <tr>\n",
       "      <th>7</th>\n",
       "      <td>Λαγκάδας-Θεσσαλονίκη</td>\n",
       "      <td>280.0</td>\n",
       "      <td>2012.0</td>\n",
       "      <td>5</td>\n",
       "      <td>89000.0</td>\n",
       "    </tr>\n",
       "    <tr>\n",
       "      <th>8</th>\n",
       "      <td>Αθήνα-Αττική</td>\n",
       "      <td>75.0</td>\n",
       "      <td>1972.0</td>\n",
       "      <td>2</td>\n",
       "      <td>130000.0</td>\n",
       "    </tr>\n",
       "    <tr>\n",
       "      <th>9</th>\n",
       "      <td>Δάφνη-Αττική</td>\n",
       "      <td>338.0</td>\n",
       "      <td>2002.0</td>\n",
       "      <td>3</td>\n",
       "      <td>450000.0</td>\n",
       "    </tr>\n",
       "  </tbody>\n",
       "</table>\n",
       "</div>"
      ],
      "text/plain": [
       "          location_name  res_sqr  construction_year bedrooms  res_price\n",
       "0  Παλαιό Φάληρο-Αττική     55.0             1973.0        1    89000.0\n",
       "1        Αχαρνές-Αττική     98.0             2010.0        2   150000.0\n",
       "2       Παγκράτι-Αττική    126.0             1990.0        3   400000.0\n",
       "3          Αθήνα-Αττική     85.0             1957.0        2    80000.0\n",
       "4          Ίλιον-Αττική     48.0             1996.0        1   100000.0\n",
       "5          Αθήνα-Αττική     96.0             1964.0        2   133000.0\n",
       "6        Γαλάτσι-Αττική     67.0             1970.0        2    35000.0\n",
       "7  Λαγκάδας-Θεσσαλονίκη    280.0             2012.0        5    89000.0\n",
       "8          Αθήνα-Αττική     75.0             1972.0        2   130000.0\n",
       "9          Δάφνη-Αττική    338.0             2002.0        3   450000.0"
      ]
     },
     "execution_count": 85,
     "metadata": {},
     "output_type": "execute_result"
    }
   ],
   "source": [
    "data = pd.read_excel(\"Greece_listings.xlsx\", sheet_name=\"Listings\", converters={\"location_name\": str, \"res_sqr\": float, \"construction_year\": float, \"bedrooms\": int, \"res_price\": float})\n",
    "data.head(10)"
   ]
  },
  {
   "cell_type": "code",
   "execution_count": 99,
   "metadata": {},
   "outputs": [
    {
     "data": {
      "text/plain": [
       "array([[  55., 1973.],\n",
       "       [  98., 2010.],\n",
       "       [ 126., 1990.],\n",
       "       ...,\n",
       "       [ 213., 1985.],\n",
       "       [ 125., 2022.],\n",
       "       [  41., 2004.]])"
      ]
     },
     "execution_count": 99,
     "metadata": {},
     "output_type": "execute_result"
    }
   ],
   "source": [
    "x = data.iloc[:, 1:-2].values\n",
    "y = data.iloc[:,-1].values\n",
    "x"
   ]
  },
  {
   "cell_type": "code",
   "execution_count": 100,
   "metadata": {},
   "outputs": [
    {
     "data": {
      "text/plain": [
       "array([ 89000., 150000., 400000., ..., 200000., 355000., 120000.])"
      ]
     },
     "execution_count": 100,
     "metadata": {},
     "output_type": "execute_result"
    }
   ],
   "source": [
    "y"
   ]
  },
  {
   "cell_type": "code",
   "execution_count": 101,
   "metadata": {},
   "outputs": [],
   "source": [
    "imputer = SimpleImputer(missing_values=np.nan, strategy=\"mean\")\n",
    "imputer.fit(x[:, 0:1])\n",
    "x[:, 0:1] = imputer.transform(x[:, 0:1])"
   ]
  },
  {
   "cell_type": "code",
   "execution_count": 106,
   "metadata": {},
   "outputs": [],
   "source": [
    "x_train, x_test, y_train, y_test = train_test_split(x, y, test_size=0.2, random_state=1)"
   ]
  },
  {
   "cell_type": "code",
   "execution_count": 108,
   "metadata": {},
   "outputs": [
    {
     "data": {
      "text/plain": [
       "(15351, 2)"
      ]
     },
     "execution_count": 108,
     "metadata": {},
     "output_type": "execute_result"
    }
   ],
   "source": [
    "plt.style.use(\"ggplot\")\n",
    "plt.scatter(x=y_train, y=x_train[:, 0:1], marker=\"o\", c=\"b\")\n",
    "plt.title(\"Price vs Square meters\")\n",
    "plt.xlabel(\"Price\")\n",
    "plt.ylabel(\"Square meters\")\n",
    "plt.show()"
   ]
  },
  {
   "cell_type": "code",
   "execution_count": null,
   "metadata": {},
   "outputs": [],
   "source": []
  }
 ],
 "metadata": {
  "kernelspec": {
   "display_name": "Polynomial-Regression",
   "language": "python",
   "name": "python3"
  },
  "language_info": {
   "codemirror_mode": {
    "name": "ipython",
    "version": 3
   },
   "file_extension": ".py",
   "mimetype": "text/x-python",
   "name": "python",
   "nbconvert_exporter": "python",
   "pygments_lexer": "ipython3",
   "version": "3.12.0"
  }
 },
 "nbformat": 4,
 "nbformat_minor": 2
}
